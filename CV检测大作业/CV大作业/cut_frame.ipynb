{
 "cells": [
  {
   "cell_type": "markdown",
   "metadata": {},
   "source": [
    "# 计算1702 张颂 120171080303 CV大作业代码"
   ]
  },
  {
   "cell_type": "markdown",
   "metadata": {},
   "source": [
    "## 一、视频切帧"
   ]
  },
  {
   "cell_type": "code",
   "execution_count": 5,
   "metadata": {},
   "outputs": [
    {
     "name": "stdout",
     "output_type": "stream",
     "text": [
      "共生成94帧图片\n"
     ]
    }
   ],
   "source": [
    "import cv2\n",
    "\n",
    "# 视频切成帧格式，并保存，后手动挑选范围\n",
    "\n",
    "input_movie = cv2.VideoCapture(\"video/video2.mp4\")# 读取mp4\n",
    "pre_file = 'video2_'# 帧的命名\n",
    "f_index = 0\n",
    "\n",
    "N = 1 # 跳几帧\n",
    "while True:\n",
    "    flag = 0\n",
    "    for i in range(N):\n",
    "        ret, frame = input_movie.read() # 读出帧\n",
    "        if not ret: # 没帧了\n",
    "            flag = 1\n",
    "            break\n",
    "    if(flag == 1):\n",
    "        break\n",
    "    ret, frame = input_movie.read() # 帧率有点大，跳一帧取60帧\n",
    "    if not ret: \n",
    "        break\n",
    "    frame_resize = cv2.resize(frame, (640, 360), interpolation=cv2.INTER_AREA) # 统一大小\n",
    "    cv2.imwrite(\"frames/\"+pre_file+str(f_index)+\".jpg\", frame_resize) # 保存\n",
    "    f_index += 1 # 下一帧\n",
    "input_movie.release()\n",
    "cv2.destroyAllWindows()\n",
    "print(\"共生成\" + str(f_index - 1) + \"帧图片\")"
   ]
  },
  {
   "cell_type": "code",
   "execution_count": 6,
   "metadata": {},
   "outputs": [
    {
     "name": "stdout",
     "output_type": "stream",
     "text": [
      "重命名完成\n"
     ]
    }
   ],
   "source": [
    "import os\n",
    "\n",
    "# 重命名帧\n",
    "\n",
    "scr = 'frames/video2_' # 待改名帧\n",
    "scrt = 0 \n",
    "dstt = 0\n",
    "\n",
    "while(1):\n",
    "    try:\n",
    "        os.rename(scr+str(scrt)+'.jpg',scr+str(dstt)+'.jpg')\n",
    "    except Exception as e: # 没这个号\n",
    "        scrt = scrt + 1 # 源号加1\n",
    "        if(dstt != 0): #没了\n",
    "            break\n",
    "    else:\n",
    "        scrt = scrt + 1\n",
    "        dstt = dstt + 1\n",
    "print(\"重命名完成\")"
   ]
  },
  {
   "cell_type": "code",
   "execution_count": null,
   "metadata": {},
   "outputs": [],
   "source": []
  }
 ],
 "metadata": {
  "kernelspec": {
   "display_name": "Python 3",
   "language": "python",
   "name": "python3"
  },
  "language_info": {
   "codemirror_mode": {
    "name": "ipython",
    "version": 3
   },
   "file_extension": ".py",
   "mimetype": "text/x-python",
   "name": "python",
   "nbconvert_exporter": "python",
   "pygments_lexer": "ipython3",
   "version": "3.7.6"
  }
 },
 "nbformat": 4,
 "nbformat_minor": 4
}
