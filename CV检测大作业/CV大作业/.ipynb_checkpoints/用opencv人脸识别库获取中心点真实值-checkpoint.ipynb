{
 "cells": [
  {
   "cell_type": "code",
   "execution_count": 9,
   "metadata": {},
   "outputs": [
    {
     "name": "stdout",
     "output_type": "stream",
     "text": [
      "246.0   179.0\n",
      "245.5   182.5\n",
      "251.0   187.0\n",
      "258.5   190.5\n",
      "270.0   194.0\n",
      "285.5   197.5\n",
      "303.5   195.5\n",
      "319.5   194.5\n",
      "337.0   190.0\n",
      "355.5   183.5\n",
      "373.5   178.5\n",
      "392.0   171.0\n",
      "406.0   168.0\n",
      "417.5   165.5\n",
      "430.5   165.5\n",
      "446.0   168.0\n",
      "460.5   173.5\n",
      "477.0   178.0\n",
      "489.5   185.5\n",
      "503.0   194.0\n",
      "513.5   199.5\n",
      "518.0   212.0\n",
      "521.0   221.0\n",
      "517.0   232.0\n",
      "514.0   240.0\n",
      "505.0   248.0\n",
      "486.5   252.5\n",
      "475.5   257.5\n",
      "461.0   264.0\n",
      "444.0   268.0\n",
      "425.0   272.0\n",
      "404.0   274.0\n",
      "365.5   273.5\n",
      "349.0   273.0\n",
      "336.5   271.5\n",
      "322.0   269.0\n",
      "311.5   262.5\n",
      "303.0   253.0\n",
      "289.5   241.5\n",
      "284.5   232.5\n",
      "268.5   220.5\n",
      "257.5   215.5\n",
      "244.5   210.5\n",
      "237.0   205.0\n",
      "229.0   198.0\n",
      "220.0   196.0\n",
      "213.5   193.5\n",
      "209.5   192.5\n",
      "208.0   195.0\n",
      "206.0   195.0\n",
      "209.0   196.0\n",
      "209.5   201.5\n",
      "211.0   204.0\n",
      "215.0   210.0\n"
     ]
    }
   ],
   "source": [
    "import cv2\n",
    "import matplotlib.pyplot as plt\n",
    "face_detector = cv2.CascadeClassifier('haarcascade_frontalface_default.xml') # 在网上下载前脸识别的xml文件，通过opencv直接调用\n",
    "\n",
    "with open(\"true_state.txt\",\"w\") as f: # 代开文件开始写\n",
    "    for i in range(55):\n",
    "        img = cv2.imread(\"frames/video2_\"+str(i+5)+\".jpg\")\n",
    "        img_gray = cv2.cvtColor(img,cv2.COLOR_BGR2GRAY)\n",
    "        faces = face_detector.detectMultiScale(img_gray, 1.3, 5) # 找到人脸位置\n",
    "        for (x, y, w, h) in faces: # 写入位置\n",
    "            print(x+w/2,' ',y+h/2)\n",
    "            f.write(str(x + w/2) + ' ' + str(y + h/2) +'\\n')"
   ]
  },
  {
   "cell_type": "code",
   "execution_count": null,
   "metadata": {},
   "outputs": [],
   "source": []
  }
 ],
 "metadata": {
  "kernelspec": {
   "display_name": "venv",
   "language": "python",
   "name": "venv"
  },
  "language_info": {
   "codemirror_mode": {
    "name": "ipython",
    "version": 3
   },
   "file_extension": ".py",
   "mimetype": "text/x-python",
   "name": "python",
   "nbconvert_exporter": "python",
   "pygments_lexer": "ipython3",
   "version": "3.7.4"
  }
 },
 "nbformat": 4,
 "nbformat_minor": 4
}
